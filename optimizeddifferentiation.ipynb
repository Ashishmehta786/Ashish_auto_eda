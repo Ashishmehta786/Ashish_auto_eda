{
  "nbformat": 4,
  "nbformat_minor": 0,
  "metadata": {
    "colab": {
      "provenance": [],
      "authorship_tag": "ABX9TyOFImlS0hM+CW25taxRhxUH",
      "include_colab_link": true
    },
    "kernelspec": {
      "name": "python3",
      "display_name": "Python 3"
    },
    "language_info": {
      "name": "python"
    }
  },
  "cells": [
    {
      "cell_type": "markdown",
      "metadata": {
        "id": "view-in-github",
        "colab_type": "text"
      },
      "source": [
        "<a href=\"https://colab.research.google.com/github/Ashishmehta786/Ashish_auto_eda/blob/main/optimizeddifferentiation.ipynb\" target=\"_parent\"><img src=\"https://colab.research.google.com/assets/colab-badge.svg\" alt=\"Open In Colab\"/></a>"
      ]
    },
    {
      "cell_type": "code",
      "source": [
        "def Bin(n):\n",
        "    return bin(n).replace(\"b\", \"0\")"
      ],
      "metadata": {
        "id": "02cRt9_hYp2x"
      },
      "execution_count": 14,
      "outputs": []
    },
    {
      "cell_type": "code",
      "source": [
        "import time\n",
        "start=time.time()\n",
        "def differentiation(x:int,f)->str:\n",
        "     if f!=0:\n",
        "\n",
        "       x=x<<1\n",
        "       print(\"differentiation is 2*x and x=2\",x)\n",
        "       return x\n",
        "     else :\n",
        "       return \"currently not  valid for this function\"\n",
        "\n",
        "def f(x):\n",
        "   return x**2\n",
        "differentiation(3,1)\n",
        "end=time.time()\n",
        "\n",
        "print(end-start)"
      ],
      "metadata": {
        "colab": {
          "base_uri": "https://localhost:8080/"
        },
        "id": "ZmNw8T12Yqz7",
        "outputId": "d36bf8cf-7970-4cc5-c39c-e05148d8d52d"
      },
      "execution_count": 77,
      "outputs": [
        {
          "output_type": "stream",
          "name": "stdout",
          "text": [
            "differentiation is 2*x and x=2 6\n",
            "0.00167083740234375\n"
          ]
        }
      ]
    },
    {
      "cell_type": "code",
      "source": [
        "\n",
        "import time\n",
        "start=time.time()\n",
        "def f(x)->int:\n",
        "    return x**2\n",
        "def differ(x:int,b)->str:\n",
        "     if b!=0:\n",
        "       h=1e-5\n",
        "\n",
        "\n",
        "       D=(f(x+h)-f(x))/h\n",
        "\n",
        "       print(\"differentiation is 2*x and x=2\",D)\n",
        "       return D\n",
        "     else :\n",
        "       return \"currently not  valid for this function\"\n",
        "\n",
        "\n",
        "\n",
        "differ(3,1)\n",
        "\n",
        "end=time.time()\n",
        "\n",
        "print(end-start)"
      ],
      "metadata": {
        "colab": {
          "base_uri": "https://localhost:8080/"
        },
        "id": "8gTplny5bLp1",
        "outputId": "1f0c7bd5-6b56-4dd4-c1d3-eff9a1330e08"
      },
      "execution_count": 78,
      "outputs": [
        {
          "output_type": "stream",
          "name": "stdout",
          "text": [
            "differentiation is 2*x and x=2 6.000009999951316\n",
            "0.002298116683959961\n"
          ]
        }
      ]
    }
  ]
}