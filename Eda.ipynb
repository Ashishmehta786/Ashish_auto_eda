{
 "cells": [
  {
   "cell_type": "code",
   "execution_count": 1,
   "id": "fc2a80f8",
   "metadata": {
    "execution": {
     "iopub.execute_input": "2023-08-15T15:40:57.183312Z",
     "iopub.status.busy": "2023-08-15T15:40:57.182832Z",
     "iopub.status.idle": "2023-08-15T15:40:57.194188Z",
     "shell.execute_reply": "2023-08-15T15:40:57.192862Z"
    },
    "papermill": {
     "duration": 0.020661,
     "end_time": "2023-08-15T15:40:57.197131",
     "exception": false,
     "start_time": "2023-08-15T15:40:57.176470",
     "status": "completed"
    },
    "tags": []
   },
   "outputs": [],
   "source": [
    "import pandas as pd \n",
    "import numpy as np"
   ]
  },
  {
   "cell_type": "code",
   "execution_count": 2,
   "id": "7714bbda",
   "metadata": {
    "execution": {
     "iopub.execute_input": "2023-08-15T15:40:57.207599Z",
     "iopub.status.busy": "2023-08-15T15:40:57.207205Z",
     "iopub.status.idle": "2023-08-15T15:41:24.692605Z",
     "shell.execute_reply": "2023-08-15T15:41:24.690719Z"
    },
    "papermill": {
     "duration": 27.493777,
     "end_time": "2023-08-15T15:41:24.695463",
     "exception": false,
     "start_time": "2023-08-15T15:40:57.201686",
     "status": "completed"
    },
    "tags": []
   },
   "outputs": [],
   "source": [
    "df=pd.read_excel(\"/kaggle/input/rcl-eda/query_result.xlsx\")"
   ]
  },
  {
   "cell_type": "code",
   "execution_count": 3,
   "id": "d4cdb381",
   "metadata": {
    "execution": {
     "iopub.execute_input": "2023-08-15T15:41:24.705974Z",
     "iopub.status.busy": "2023-08-15T15:41:24.705454Z",
     "iopub.status.idle": "2023-08-15T15:41:24.759528Z",
     "shell.execute_reply": "2023-08-15T15:41:24.758287Z"
    },
    "papermill": {
     "duration": 0.062106,
     "end_time": "2023-08-15T15:41:24.762192",
     "exception": false,
     "start_time": "2023-08-15T15:41:24.700086",
     "status": "completed"
    },
    "tags": []
   },
   "outputs": [
    {
     "data": {
      "text/html": [
       "<div>\n",
       "<style scoped>\n",
       "    .dataframe tbody tr th:only-of-type {\n",
       "        vertical-align: middle;\n",
       "    }\n",
       "\n",
       "    .dataframe tbody tr th {\n",
       "        vertical-align: top;\n",
       "    }\n",
       "\n",
       "    .dataframe thead th {\n",
       "        text-align: right;\n",
       "    }\n",
       "</style>\n",
       "<table border=\"1\" class=\"dataframe\">\n",
       "  <thead>\n",
       "    <tr style=\"text-align: right;\">\n",
       "      <th></th>\n",
       "      <th>booking_id</th>\n",
       "      <th>Child_booking_id</th>\n",
       "      <th>Doctor</th>\n",
       "      <th>customer_name</th>\n",
       "      <th>customer_age</th>\n",
       "      <th>customer_gender</th>\n",
       "      <th>booking_date</th>\n",
       "      <th>booking_time</th>\n",
       "      <th>collection_date</th>\n",
       "      <th>packages</th>\n",
       "      <th>...</th>\n",
       "      <th>report_status</th>\n",
       "      <th>report_generation_time</th>\n",
       "      <th>report_send_time</th>\n",
       "      <th>test_name</th>\n",
       "      <th>lower_bound_female</th>\n",
       "      <th>lower_bound_male</th>\n",
       "      <th>upper_bound_male</th>\n",
       "      <th>upper_bound_female</th>\n",
       "      <th>Reported_Value</th>\n",
       "      <th>is_highlighted</th>\n",
       "    </tr>\n",
       "  </thead>\n",
       "  <tbody>\n",
       "    <tr>\n",
       "      <th>0</th>\n",
       "      <td>3790517</td>\n",
       "      <td>3790525</td>\n",
       "      <td>NaN</td>\n",
       "      <td>Prafulla Chandra R</td>\n",
       "      <td>37</td>\n",
       "      <td>female</td>\n",
       "      <td>2023-04-12</td>\n",
       "      <td>18:34:52</td>\n",
       "      <td>2023-04-12</td>\n",
       "      <td>SH - Finastra Female Package (Onsite)</td>\n",
       "      <td>...</td>\n",
       "      <td>consolidate</td>\n",
       "      <td>2023-04-13 16:31:11.552</td>\n",
       "      <td>NaT</td>\n",
       "      <td>Total Protein</td>\n",
       "      <td>6.4</td>\n",
       "      <td>6.4</td>\n",
       "      <td>8.3</td>\n",
       "      <td>8.3</td>\n",
       "      <td>8.2</td>\n",
       "      <td>0.0</td>\n",
       "    </tr>\n",
       "  </tbody>\n",
       "</table>\n",
       "<p>1 rows × 27 columns</p>\n",
       "</div>"
      ],
      "text/plain": [
       "   booking_id  Child_booking_id  Doctor       customer_name  customer_age  \\\n",
       "0     3790517           3790525     NaN  Prafulla Chandra R            37   \n",
       "\n",
       "  customer_gender booking_date booking_time collection_date  \\\n",
       "0          female   2023-04-12     18:34:52      2023-04-12   \n",
       "\n",
       "                                packages  ... report_status  \\\n",
       "0  SH - Finastra Female Package (Onsite)  ...   consolidate   \n",
       "\n",
       "   report_generation_time report_send_time      test_name  lower_bound_female  \\\n",
       "0 2023-04-13 16:31:11.552              NaT  Total Protein                 6.4   \n",
       "\n",
       "  lower_bound_male upper_bound_male upper_bound_female Reported_Value  \\\n",
       "0              6.4              8.3                8.3            8.2   \n",
       "\n",
       "  is_highlighted  \n",
       "0            0.0  \n",
       "\n",
       "[1 rows x 27 columns]"
      ]
     },
     "execution_count": 3,
     "metadata": {},
     "output_type": "execute_result"
    }
   ],
   "source": [
    "df.head(1)"
   ]
  },
  {
   "cell_type": "code",
   "execution_count": 4,
   "id": "84d3af3b",
   "metadata": {
    "execution": {
     "iopub.execute_input": "2023-08-15T15:41:24.773134Z",
     "iopub.status.busy": "2023-08-15T15:41:24.772727Z",
     "iopub.status.idle": "2023-08-15T15:41:24.791004Z",
     "shell.execute_reply": "2023-08-15T15:41:24.789875Z"
    },
    "papermill": {
     "duration": 0.026333,
     "end_time": "2023-08-15T15:41:24.793256",
     "exception": false,
     "start_time": "2023-08-15T15:41:24.766923",
     "status": "completed"
    },
    "tags": []
   },
   "outputs": [],
   "source": [
    "df.drop([\"Doctor\",\"customer_name\",\"booking_id\",\"Child_booking_id\",\"booking_date\",\"booking_time\",\"collection_date\",\"report_send_time\",\"report_generation_time\"] ,axis=1,inplace=True)"
   ]
  },
  {
   "cell_type": "code",
   "execution_count": 5,
   "id": "c227dcd2",
   "metadata": {
    "execution": {
     "iopub.execute_input": "2023-08-15T15:41:24.805216Z",
     "iopub.status.busy": "2023-08-15T15:41:24.804618Z",
     "iopub.status.idle": "2023-08-15T15:41:24.824491Z",
     "shell.execute_reply": "2023-08-15T15:41:24.823072Z"
    },
    "papermill": {
     "duration": 0.029208,
     "end_time": "2023-08-15T15:41:24.827024",
     "exception": false,
     "start_time": "2023-08-15T15:41:24.797816",
     "status": "completed"
    },
    "tags": []
   },
   "outputs": [],
   "source": [
    "df.drop([\"center_code\",\"booking_status\",\"verification_status\",\"report_status\"],axis=1,inplace=True)"
   ]
  },
  {
   "cell_type": "code",
   "execution_count": 6,
   "id": "5d6ead98",
   "metadata": {
    "execution": {
     "iopub.execute_input": "2023-08-15T15:41:24.837782Z",
     "iopub.status.busy": "2023-08-15T15:41:24.837426Z",
     "iopub.status.idle": "2023-08-15T15:41:24.852080Z",
     "shell.execute_reply": "2023-08-15T15:41:24.851122Z"
    },
    "papermill": {
     "duration": 0.022461,
     "end_time": "2023-08-15T15:41:24.854073",
     "exception": false,
     "start_time": "2023-08-15T15:41:24.831612",
     "status": "completed"
    },
    "tags": []
   },
   "outputs": [
    {
     "data": {
      "text/html": [
       "<div>\n",
       "<style scoped>\n",
       "    .dataframe tbody tr th:only-of-type {\n",
       "        vertical-align: middle;\n",
       "    }\n",
       "\n",
       "    .dataframe tbody tr th {\n",
       "        vertical-align: top;\n",
       "    }\n",
       "\n",
       "    .dataframe thead th {\n",
       "        text-align: right;\n",
       "    }\n",
       "</style>\n",
       "<table border=\"1\" class=\"dataframe\">\n",
       "  <thead>\n",
       "    <tr style=\"text-align: right;\">\n",
       "      <th></th>\n",
       "      <th>customer_age</th>\n",
       "      <th>customer_gender</th>\n",
       "      <th>packages</th>\n",
       "      <th>Booking_Center</th>\n",
       "      <th>city</th>\n",
       "      <th>lab</th>\n",
       "      <th>price</th>\n",
       "      <th>test_name</th>\n",
       "      <th>lower_bound_female</th>\n",
       "      <th>lower_bound_male</th>\n",
       "      <th>upper_bound_male</th>\n",
       "      <th>upper_bound_female</th>\n",
       "      <th>Reported_Value</th>\n",
       "      <th>is_highlighted</th>\n",
       "    </tr>\n",
       "  </thead>\n",
       "  <tbody>\n",
       "    <tr>\n",
       "      <th>0</th>\n",
       "      <td>37</td>\n",
       "      <td>female</td>\n",
       "      <td>SH - Finastra Female Package (Onsite)</td>\n",
       "      <td>SEPTA-HEALTH</td>\n",
       "      <td>Bangalore</td>\n",
       "      <td>Bangalore</td>\n",
       "      <td>88500</td>\n",
       "      <td>Total Protein</td>\n",
       "      <td>6.4</td>\n",
       "      <td>6.4</td>\n",
       "      <td>8.3</td>\n",
       "      <td>8.3</td>\n",
       "      <td>8.2</td>\n",
       "      <td>0.0</td>\n",
       "    </tr>\n",
       "  </tbody>\n",
       "</table>\n",
       "</div>"
      ],
      "text/plain": [
       "   customer_age customer_gender                               packages  \\\n",
       "0            37          female  SH - Finastra Female Package (Onsite)   \n",
       "\n",
       "  Booking_Center       city        lab  price      test_name  \\\n",
       "0   SEPTA-HEALTH  Bangalore  Bangalore  88500  Total Protein   \n",
       "\n",
       "  lower_bound_female lower_bound_male upper_bound_male upper_bound_female  \\\n",
       "0                6.4              6.4              8.3                8.3   \n",
       "\n",
       "  Reported_Value  is_highlighted  \n",
       "0            8.2             0.0  "
      ]
     },
     "execution_count": 6,
     "metadata": {},
     "output_type": "execute_result"
    }
   ],
   "source": [
    "df.head(1)"
   ]
  },
  {
   "cell_type": "code",
   "execution_count": 7,
   "id": "f7fa2c47",
   "metadata": {
    "execution": {
     "iopub.execute_input": "2023-08-15T15:41:24.864520Z",
     "iopub.status.busy": "2023-08-15T15:41:24.864153Z",
     "iopub.status.idle": "2023-08-15T15:41:24.876907Z",
     "shell.execute_reply": "2023-08-15T15:41:24.875880Z"
    },
    "papermill": {
     "duration": 0.020571,
     "end_time": "2023-08-15T15:41:24.879295",
     "exception": false,
     "start_time": "2023-08-15T15:41:24.858724",
     "status": "completed"
    },
    "tags": []
   },
   "outputs": [],
   "source": [
    "df.drop(df.columns[[2]],axis=1,inplace=True)"
   ]
  },
  {
   "cell_type": "code",
   "execution_count": 8,
   "id": "99f715ef",
   "metadata": {
    "execution": {
     "iopub.execute_input": "2023-08-15T15:41:24.890551Z",
     "iopub.status.busy": "2023-08-15T15:41:24.889975Z",
     "iopub.status.idle": "2023-08-15T15:41:25.006023Z",
     "shell.execute_reply": "2023-08-15T15:41:25.004472Z"
    },
    "papermill": {
     "duration": 0.124147,
     "end_time": "2023-08-15T15:41:25.008289",
     "exception": false,
     "start_time": "2023-08-15T15:41:24.884142",
     "status": "completed"
    },
    "tags": []
   },
   "outputs": [],
   "source": [
    "df.dropna(axis=0,inplace=True)"
   ]
  },
  {
   "cell_type": "code",
   "execution_count": 9,
   "id": "51e49bd2",
   "metadata": {
    "execution": {
     "iopub.execute_input": "2023-08-15T15:41:25.019556Z",
     "iopub.status.busy": "2023-08-15T15:41:25.019164Z",
     "iopub.status.idle": "2023-08-15T15:41:25.034927Z",
     "shell.execute_reply": "2023-08-15T15:41:25.033312Z"
    },
    "papermill": {
     "duration": 0.024968,
     "end_time": "2023-08-15T15:41:25.037984",
     "exception": false,
     "start_time": "2023-08-15T15:41:25.013016",
     "status": "completed"
    },
    "tags": []
   },
   "outputs": [
    {
     "data": {
      "text/html": [
       "<div>\n",
       "<style scoped>\n",
       "    .dataframe tbody tr th:only-of-type {\n",
       "        vertical-align: middle;\n",
       "    }\n",
       "\n",
       "    .dataframe tbody tr th {\n",
       "        vertical-align: top;\n",
       "    }\n",
       "\n",
       "    .dataframe thead th {\n",
       "        text-align: right;\n",
       "    }\n",
       "</style>\n",
       "<table border=\"1\" class=\"dataframe\">\n",
       "  <thead>\n",
       "    <tr style=\"text-align: right;\">\n",
       "      <th></th>\n",
       "      <th>customer_age</th>\n",
       "      <th>customer_gender</th>\n",
       "      <th>Booking_Center</th>\n",
       "      <th>city</th>\n",
       "      <th>lab</th>\n",
       "      <th>price</th>\n",
       "      <th>test_name</th>\n",
       "      <th>lower_bound_female</th>\n",
       "      <th>lower_bound_male</th>\n",
       "      <th>upper_bound_male</th>\n",
       "      <th>upper_bound_female</th>\n",
       "      <th>Reported_Value</th>\n",
       "      <th>is_highlighted</th>\n",
       "    </tr>\n",
       "  </thead>\n",
       "  <tbody>\n",
       "    <tr>\n",
       "      <th>0</th>\n",
       "      <td>37</td>\n",
       "      <td>female</td>\n",
       "      <td>SEPTA-HEALTH</td>\n",
       "      <td>Bangalore</td>\n",
       "      <td>Bangalore</td>\n",
       "      <td>88500</td>\n",
       "      <td>Total Protein</td>\n",
       "      <td>6.4</td>\n",
       "      <td>6.4</td>\n",
       "      <td>8.3</td>\n",
       "      <td>8.3</td>\n",
       "      <td>8.2</td>\n",
       "      <td>0.0</td>\n",
       "    </tr>\n",
       "  </tbody>\n",
       "</table>\n",
       "</div>"
      ],
      "text/plain": [
       "   customer_age customer_gender Booking_Center       city        lab  price  \\\n",
       "0            37          female   SEPTA-HEALTH  Bangalore  Bangalore  88500   \n",
       "\n",
       "       test_name lower_bound_female lower_bound_male upper_bound_male  \\\n",
       "0  Total Protein                6.4              6.4              8.3   \n",
       "\n",
       "  upper_bound_female Reported_Value  is_highlighted  \n",
       "0                8.3            8.2             0.0  "
      ]
     },
     "execution_count": 9,
     "metadata": {},
     "output_type": "execute_result"
    }
   ],
   "source": [
    "df.head(1)"
   ]
  },
  {
   "cell_type": "code",
   "execution_count": 10,
   "id": "97d69f49",
   "metadata": {
    "execution": {
     "iopub.execute_input": "2023-08-15T15:41:25.050479Z",
     "iopub.status.busy": "2023-08-15T15:41:25.050062Z",
     "iopub.status.idle": "2023-08-15T15:41:27.358875Z",
     "shell.execute_reply": "2023-08-15T15:41:27.357146Z"
    },
    "papermill": {
     "duration": 2.317102,
     "end_time": "2023-08-15T15:41:27.361107",
     "exception": false,
     "start_time": "2023-08-15T15:41:25.044005",
     "status": "completed"
    },
    "tags": []
   },
   "outputs": [
    {
     "name": "stderr",
     "output_type": "stream",
     "text": [
      "/opt/conda/lib/python3.10/site-packages/scipy/__init__.py:146: UserWarning: A NumPy version >=1.16.5 and <1.23.0 is required for this version of SciPy (detected version 1.23.5\n",
      "  warnings.warn(f\"A NumPy version >={np_minversion} and <{np_maxversion}\"\n"
     ]
    },
    {
     "data": {
      "image/png": "[encoded data removed]",
      "text/plain": [
       "<Figure size 640x480 with 1 Axes>"
      ]
     },
     "metadata": {},
     "output_type": "display_data"
    }
   ],
   "source": [
    "import pandas as pd\n",
    "import seaborn as sns\n",
    "import matplotlib.pyplot as plt\n",
    "with sns.color_palette(\"Set2\"):\n",
    "    sns.barplot(y='price', x='customer_gender', data=df)\n",
    "    plt.title('Scatter Plot')\n",
    "    plt.ylabel('Lab_test_Price')\n",
    "    plt.xlabel('gender')\n",
    "    plt.show()\n"
   ]
  },
  {
   "cell_type": "code",
   "execution_count": 11,
   "id": "26224640",
   "metadata": {
    "execution": {
     "iopub.execute_input": "2023-08-15T15:41:27.373351Z",
     "iopub.status.busy": "2023-08-15T15:41:27.372466Z",
     "iopub.status.idle": "2023-08-15T15:41:27.628516Z",
     "shell.execute_reply": "2023-08-15T15:41:27.627186Z"
    },
    "papermill": {
     "duration": 0.264996,
     "end_time": "2023-08-15T15:41:27.631188",
     "exception": false,
     "start_time": "2023-08-15T15:41:27.366192",
     "status": "completed"
    },
    "tags": []
   },
   "outputs": [
    {
     "data": {
      "image/png": "[encoded data removed]",
      "text/plain": [
       "<Figure size 640x480 with 1 Axes>"
      ]
     },
     "metadata": {},
     "output_type": "display_data"
    }
   ],
   "source": [
    "plt.hist(df['price'], bins=20,color=\"darkblue\")\n",
    "plt.title('Histogram ')\n",
    "plt.xlabel('lab_test_price')\n",
    "plt.ylabel('Frequency')\n",
    "plt.show()\n",
    "sns.set(rc={'figure.figsize':(11.7,12.27)})"
   ]
  },
  {
   "cell_type": "code",
   "execution_count": null,
   "id": "855472bf",
   "metadata": {
    "papermill": {
     "duration": 0.005753,
     "end_time": "2023-08-15T15:41:27.642484",
     "exception": false,
     "start_time": "2023-08-15T15:41:27.636731",
     "status": "completed"
    },
    "tags": []
   },
   "outputs": [],
   "source": []
  },
  {
   "cell_type": "code",
   "execution_count": 12,
   "id": "d262581e",
   "metadata": {
    "execution": {
     "iopub.execute_input": "2023-08-15T15:41:27.656106Z",
     "iopub.status.busy": "2023-08-15T15:41:27.654732Z",
     "iopub.status.idle": "2023-08-15T15:41:28.474786Z",
     "shell.execute_reply": "2023-08-15T15:41:28.473277Z"
    },
    "papermill": {
     "duration": 0.829336,
     "end_time": "2023-08-15T15:41:28.477269",
     "exception": false,
     "start_time": "2023-08-15T15:41:27.647933",
     "status": "completed"
    },
    "tags": []
   },
   "outputs": [
    {
     "data": {
      "image/png": "[encoded data removed]",
      "text/plain": [
       "<Figure size 1170x1227 with 1 Axes>"
      ]
     },
     "metadata": {},
     "output_type": "display_data"
    }
   ],
   "source": [
    "with sns.color_palette(\"Set1\"):\n",
    "     sns.countplot(data=df, x=\"customer_age\",hue=\"customer_gender\")"
   ]
  },
  {
   "cell_type": "code",
   "execution_count": null,
   "id": "81c17df4",
   "metadata": {
    "papermill": {
     "duration": 0.005367,
     "end_time": "2023-08-15T15:41:28.488510",
     "exception": false,
     "start_time": "2023-08-15T15:41:28.483143",
     "status": "completed"
    },
    "tags": []
   },
   "outputs": [],
   "source": []
  },
  {
   "cell_type": "code",
   "execution_count": null,
   "id": "74621d57",
   "metadata": {
    "papermill": {
     "duration": 0.005349,
     "end_time": "2023-08-15T15:41:28.499563",
     "exception": false,
     "start_time": "2023-08-15T15:41:28.494214",
     "status": "completed"
    },
    "tags": []
   },
   "outputs": [],
   "source": []
  },
  {
   "cell_type": "code",
   "execution_count": null,
   "id": "34c39d18",
   "metadata": {
    "papermill": {
     "duration": 0.00522,
     "end_time": "2023-08-15T15:41:28.510326",
     "exception": false,
     "start_time": "2023-08-15T15:41:28.505106",
     "status": "completed"
    },
    "tags": []
   },
   "outputs": [],
   "source": []
  },
  {
   "cell_type": "code",
   "execution_count": null,
   "id": "5d628fce",
   "metadata": {
    "papermill": {
     "duration": 0.005575,
     "end_time": "2023-08-15T15:41:28.521872",
     "exception": false,
     "start_time": "2023-08-15T15:41:28.516297",
     "status": "completed"
    },
    "tags": []
   },
   "outputs": [],
   "source": []
  },
  {
   "cell_type": "code",
   "execution_count": 13,
   "id": "94b87647",
   "metadata": {
    "execution": {
     "iopub.execute_input": "2023-08-15T15:41:28.534945Z",
     "iopub.status.busy": "2023-08-15T15:41:28.534601Z",
     "iopub.status.idle": "2023-08-15T15:41:28.540109Z",
     "shell.execute_reply": "2023-08-15T15:41:28.538448Z"
    },
    "papermill": {
     "duration": 0.015262,
     "end_time": "2023-08-15T15:41:28.542696",
     "exception": false,
     "start_time": "2023-08-15T15:41:28.527434",
     "status": "completed"
    },
    "tags": []
   },
   "outputs": [],
   "source": [
    "#df=pd.get_dummies(df,columns=[\"lab\",\"city\",\"test_name\",\"Booking_Center\"])\n",
    "#for ml model will use get dummies for encoding them"
   ]
  },
  {
   "cell_type": "code",
   "execution_count": 14,
   "id": "06e02544",
   "metadata": {
    "execution": {
     "iopub.execute_input": "2023-08-15T15:41:28.556120Z",
     "iopub.status.busy": "2023-08-15T15:41:28.555765Z",
     "iopub.status.idle": "2023-08-15T15:41:28.570753Z",
     "shell.execute_reply": "2023-08-15T15:41:28.569471Z"
    },
    "papermill": {
     "duration": 0.024015,
     "end_time": "2023-08-15T15:41:28.572754",
     "exception": false,
     "start_time": "2023-08-15T15:41:28.548739",
     "status": "completed"
    },
    "tags": []
   },
   "outputs": [
    {
     "data": {
      "text/html": [
       "<div>\n",
       "<style scoped>\n",
       "    .dataframe tbody tr th:only-of-type {\n",
       "        vertical-align: middle;\n",
       "    }\n",
       "\n",
       "    .dataframe tbody tr th {\n",
       "        vertical-align: top;\n",
       "    }\n",
       "\n",
       "    .dataframe thead th {\n",
       "        text-align: right;\n",
       "    }\n",
       "</style>\n",
       "<table border=\"1\" class=\"dataframe\">\n",
       "  <thead>\n",
       "    <tr style=\"text-align: right;\">\n",
       "      <th></th>\n",
       "      <th>customer_age</th>\n",
       "      <th>customer_gender</th>\n",
       "      <th>Booking_Center</th>\n",
       "      <th>city</th>\n",
       "      <th>lab</th>\n",
       "      <th>price</th>\n",
       "      <th>test_name</th>\n",
       "      <th>lower_bound_female</th>\n",
       "      <th>lower_bound_male</th>\n",
       "      <th>upper_bound_male</th>\n",
       "      <th>upper_bound_female</th>\n",
       "      <th>Reported_Value</th>\n",
       "      <th>is_highlighted</th>\n",
       "    </tr>\n",
       "  </thead>\n",
       "  <tbody>\n",
       "    <tr>\n",
       "      <th>0</th>\n",
       "      <td>37</td>\n",
       "      <td>female</td>\n",
       "      <td>SEPTA-HEALTH</td>\n",
       "      <td>Bangalore</td>\n",
       "      <td>Bangalore</td>\n",
       "      <td>88500</td>\n",
       "      <td>Total Protein</td>\n",
       "      <td>6.4</td>\n",
       "      <td>6.4</td>\n",
       "      <td>8.3</td>\n",
       "      <td>8.3</td>\n",
       "      <td>8.2</td>\n",
       "      <td>0.0</td>\n",
       "    </tr>\n",
       "  </tbody>\n",
       "</table>\n",
       "</div>"
      ],
      "text/plain": [
       "   customer_age customer_gender Booking_Center       city        lab  price  \\\n",
       "0            37          female   SEPTA-HEALTH  Bangalore  Bangalore  88500   \n",
       "\n",
       "       test_name lower_bound_female lower_bound_male upper_bound_male  \\\n",
       "0  Total Protein                6.4              6.4              8.3   \n",
       "\n",
       "  upper_bound_female Reported_Value  is_highlighted  \n",
       "0                8.3            8.2             0.0  "
      ]
     },
     "execution_count": 14,
     "metadata": {},
     "output_type": "execute_result"
    }
   ],
   "source": [
    "df.head(1)"
   ]
  },
  {
   "cell_type": "code",
   "execution_count": 15,
   "id": "40e67192",
   "metadata": {
    "execution": {
     "iopub.execute_input": "2023-08-15T15:41:28.585804Z",
     "iopub.status.busy": "2023-08-15T15:41:28.585485Z",
     "iopub.status.idle": "2023-08-15T15:41:28.592757Z",
     "shell.execute_reply": "2023-08-15T15:41:28.591685Z"
    },
    "papermill": {
     "duration": 0.016009,
     "end_time": "2023-08-15T15:41:28.594633",
     "exception": false,
     "start_time": "2023-08-15T15:41:28.578624",
     "status": "completed"
    },
    "tags": []
   },
   "outputs": [
    {
     "data": {
      "text/plain": [
       "(51128, 13)"
      ]
     },
     "execution_count": 15,
     "metadata": {},
     "output_type": "execute_result"
    }
   ],
   "source": [
    "df.shape"
   ]
  }
 ],
 "metadata": {
  "kernelspec": {
   "display_name": "Python 3",
   "language": "python",
   "name": "python3"
  },
  "language_info": {
   "codemirror_mode": {
    "name": "ipython",
    "version": 3
   },
   "file_extension": ".py",
   "mimetype": "text/x-python",
   "name": "python",
   "nbconvert_exporter": "python",
   "pygments_lexer": "ipython3",
   "version": "3.10.12"
  },
  "papermill": {
   "default_parameters": {},
   "duration": 41.84131,
   "end_time": "2023-08-15T15:41:29.621867",
   "environment_variables": {},
   "exception": null,
   "input_path": "__notebook__.ipynb",
   "output_path": "__notebook__.ipynb",
   "parameters": {},
   "start_time": "2023-08-15T15:40:47.780557",
   "version": "2.4.0"
  }
 },
 "nbformat": 4,
 "nbformat_minor": 5
}
