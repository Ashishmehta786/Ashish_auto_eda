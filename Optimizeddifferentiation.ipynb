{
  "nbformat": 4,
  "nbformat_minor": 0,
  "metadata": {
    "colab": {
      "provenance": [],
      "mount_file_id": "1G4ujDEYtPsx1ude278h1asTXZf8baiRK",
      "authorship_tag": "ABX9TyM409EiM8RU4l3mAssp+Hip",
      "include_colab_link": true
    },
    "kernelspec": {
      "name": "python3",
      "display_name": "Python 3"
    },
    "language_info": {
      "name": "python"
    }
  },
  "cells": [
    {
      "cell_type": "markdown",
      "metadata": {
        "id": "view-in-github",
        "colab_type": "text"
      },
      "source": [
        "<a href=\"https://colab.research.google.com/github/Ashishmehta786/Ashish_auto_eda/blob/main/Optimizeddifferentiation.ipynb\" target=\"_parent\"><img src=\"https://colab.research.google.com/assets/colab-badge.svg\" alt=\"Open In Colab\"/></a>"
      ]
    },
    {
      "cell_type": "code",
      "source": [
        "def Bin(n):\n",
        "    return bin(n).replace(\"b\", \"0\")"
      ],
      "metadata": {
        "id": "02cRt9_hYp2x"
      },
      "execution_count": null,
      "outputs": []
    },
    {
      "cell_type": "code",
      "source": [
        "import time\n",
        "start=time.time()\n",
        "def differentiation(x:int,f)->str:\n",
        "     if f!=0:\n",
        "\n",
        "       x=x<<1\n",
        "       print(\"differentiation is 2*x and x=2\",x)\n",
        "       return x\n",
        "     else :\n",
        "       return \"currently not  valid for this function\"\n",
        "\n",
        "def f(x):\n",
        "   return x**2\n",
        "differentiation(3,1)\n",
        "end=time.time()\n",
        "\n",
        "a1=end-start\n",
        "print(a1)"
      ],
      "metadata": {
        "colab": {
          "base_uri": "https://localhost:8080/"
        },
        "id": "ZmNw8T12Yqz7",
        "outputId": "0197a4d8-12cf-438d-b9ed-6ffd6ee36feb"
      },
      "execution_count": null,
      "outputs": [
        {
          "output_type": "stream",
          "name": "stdout",
          "text": [
            "differentiation is 2*x and x=2 6\n",
            "0.0015094280242919922\n"
          ]
        }
      ]
    },
    {
      "cell_type": "code",
      "source": [
        "\n",
        "import time\n",
        "start=time.time()\n",
        "def f(x)->int:\n",
        "    return x**2\n",
        "def differ(x:int,b)->str:\n",
        "     if b!=0:\n",
        "       h=1e-5\n",
        "\n",
        "\n",
        "       D=(f(x+h)-f(x))/h\n",
        "\n",
        "       print(\"differentiation is 2*x and x=2\",D)\n",
        "       return D\n",
        "     else :\n",
        "       return \"currently not  valid for this function\"\n",
        "\n",
        "\n",
        "\n",
        "differ(3,1)\n",
        "\n",
        "end=time.time()\n",
        "\n",
        "a2=end-start\n",
        "print(a2)"
      ],
      "metadata": {
        "colab": {
          "base_uri": "https://localhost:8080/"
        },
        "id": "8gTplny5bLp1",
        "outputId": "d9e6d609-7e41-49a4-86c2-6fbeedf1cae9"
      },
      "execution_count": null,
      "outputs": [
        {
          "output_type": "stream",
          "name": "stdout",
          "text": [
            "differentiation is 2*x and x=2 6.000009999951316\n",
            "0.0030395984649658203\n"
          ]
        }
      ]
    },
    {
      "cell_type": "code",
      "source": [
        "print(f\"optimization made it work {a2/a1} times faster\")"
      ],
      "metadata": {
        "colab": {
          "base_uri": "https://localhost:8080/"
        },
        "id": "Bc2kRXpTdD9H",
        "outputId": "be863ec0-da5b-4d2a-baee-1fbd2fdede89"
      },
      "execution_count": null,
      "outputs": [
        {
          "output_type": "stream",
          "name": "stdout",
          "text": [
            "optimization made it work 2.013741904912336 times faster\n"
          ]
        }
      ]
    },
    {
      "cell_type": "code",
      "source": [
        "import time\n",
        "import tensorflow as tf\n",
        "start=time.time()\n",
        "def differentiation(x,B):\n",
        "     if B!=0:\n",
        "\n",
        "       with tf.GradientTape() as tape:\n",
        "           x=tf.Variable(x,dtype=tf.int32)\n",
        "           A=tape.gradient(f(x),x)\n",
        "           print(\"differentiation is 2*x and x=2\",A)\n",
        "       return A\n",
        "     else :\n",
        "       return \"currently not  valid for this function\"\n",
        "\n",
        "def f(x):\n",
        "   return tf.Variable(x**2,dtype=tf.int32)\n",
        "differentiation(3,1)\n",
        "end=time.time()\n",
        "\n",
        "a3=end-start\n",
        "print(a3)"
      ],
      "metadata": {
        "colab": {
          "base_uri": "https://localhost:8080/"
        },
        "id": "vmmfZWHMfrJO",
        "outputId": "959f63de-3430-4e65-dfe6-85e1b35b2bf5"
      },
      "execution_count": null,
      "outputs": [
        {
          "output_type": "stream",
          "name": "stdout",
          "text": [
            "differentiation is 2*x and x=2 None\n",
            "0.0046443939208984375\n"
          ]
        }
      ]
    },
    {
      "cell_type": "code",
      "source": [
        "print(f\"{a3/a1} times faster than tf\")"
      ],
      "metadata": {
        "colab": {
          "base_uri": "https://localhost:8080/"
        },
        "id": "4i-ws57-hcI1",
        "outputId": "390de1b7-1ab2-44e2-f213-e7295212e8c1"
      },
      "execution_count": null,
      "outputs": [
        {
          "output_type": "stream",
          "name": "stdout",
          "text": [
            "3.076923076923077 times faster than tf\n"
          ]
        }
      ]
    }
  ]
}