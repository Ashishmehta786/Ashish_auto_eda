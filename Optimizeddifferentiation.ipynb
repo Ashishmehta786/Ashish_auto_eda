{
  "nbformat": 4,
  "nbformat_minor": 0,
  "metadata": {
    "colab": {
      "provenance": [],
      "mount_file_id": "1G4ujDEYtPsx1ude278h1asTXZf8baiRK",
      "authorship_tag": "ABX9TyMsN4cdHSPl2rWqVwOUo6KB",
      "include_colab_link": true
    },
    "kernelspec": {
      "name": "python3",
      "display_name": "Python 3"
    },
    "language_info": {
      "name": "python"
    }
  },
  "cells": [
    {
      "cell_type": "markdown",
      "metadata": {
        "id": "view-in-github",
        "colab_type": "text"
      },
      "source": [
        "<a href=\"https://colab.research.google.com/github/Ashishmehta786/Ashish_auto_eda/blob/main/Optimizeddifferentiation.ipynb\" target=\"_parent\"><img src=\"https://colab.research.google.com/assets/colab-badge.svg\" alt=\"Open In Colab\"/></a>"
      ]
    },
    {
      "cell_type": "code",
      "source": [
        "def Bin(n):\n",
        "    return bin(n).replace(\"b\", \"0\")"
      ],
      "metadata": {
        "id": "02cRt9_hYp2x"
      },
      "execution_count": 88,
      "outputs": []
    },
    {
      "cell_type": "code",
      "source": [
        "import time\n",
        "start=time.time()\n",
        "def differentiation(x:int,f)->str:\n",
        "     if f!=0:\n",
        "\n",
        "       x=x<<1\n",
        "       print(\"differentiation is 2*x and x=2\",x)\n",
        "       return x\n",
        "     else :\n",
        "       return \"currently not  valid for this function\"\n",
        "\n",
        "def f(x):\n",
        "   return x**2\n",
        "differentiation(3,1)\n",
        "end=time.time()\n",
        "\n",
        "a1=end-start\n",
        "print(a1)"
      ],
      "metadata": {
        "colab": {
          "base_uri": "https://localhost:8080/"
        },
        "id": "ZmNw8T12Yqz7",
        "outputId": "2dedab91-88eb-4a88-c87d-7c748e96fd9e"
      },
      "execution_count": 89,
      "outputs": [
        {
          "output_type": "stream",
          "name": "stdout",
          "text": [
            "differentiation is 2*x and x=2 6\n",
            "0.004632711410522461\n"
          ]
        }
      ]
    },
    {
      "cell_type": "code",
      "source": [
        "\n",
        "import time\n",
        "start=time.time()\n",
        "def f(x)->int:\n",
        "    return x**2\n",
        "def differ(x:int,b)->str:\n",
        "     if b!=0:\n",
        "       h=1e-5\n",
        "\n",
        "\n",
        "       D=(f(x+h)-f(x))/h\n",
        "\n",
        "       print(\"differentiation is 2*x and x=2\",D)\n",
        "       return D\n",
        "     else :\n",
        "       return \"currently not  valid for this function\"\n",
        "\n",
        "\n",
        "\n",
        "differ(3,1)\n",
        "\n",
        "end=time.time()\n",
        "\n",
        "a2=end-start"
      ],
      "metadata": {
        "colab": {
          "base_uri": "https://localhost:8080/"
        },
        "id": "8gTplny5bLp1",
        "outputId": "f3da3013-5fbf-4bd3-f7eb-355a52c972d1"
      },
      "execution_count": 90,
      "outputs": [
        {
          "output_type": "stream",
          "name": "stdout",
          "text": [
            "differentiation is 2*x and x=2 6.000009999951316\n"
          ]
        }
      ]
    },
    {
      "cell_type": "code",
      "source": [
        "print(f\"optimization made it work {a2/a1} times faster\")"
      ],
      "metadata": {
        "colab": {
          "base_uri": "https://localhost:8080/"
        },
        "id": "Bc2kRXpTdD9H",
        "outputId": "933f230b-0e5b-492b-e79d-4152a02d85cc"
      },
      "execution_count": 91,
      "outputs": [
        {
          "output_type": "stream",
          "name": "stdout",
          "text": [
            "optimization made it work 0.757140651536205 times faster\n"
          ]
        }
      ]
    }
  ]
}